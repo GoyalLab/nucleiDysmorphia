{
 "cells": [
  {
   "cell_type": "code",
   "execution_count": null,
   "metadata": {
    "collapsed": false
   },
   "outputs": [],
   "source": [
    "### Using my developed metrics for nucleiDysmorphia analysis\n",
    "### Created by Madeline E Melzer on 20230726, Last Edit by Madeline E Melzer on 20240111"
   ]
  },
  {
   "cell_type": "code",
   "execution_count": 87,
   "metadata": {
    "ExecuteTime": {
     "end_time": "2023-11-07T23:41:51.076266Z",
     "start_time": "2023-11-07T23:41:48.405996Z"
    },
    "collapsed": false
   },
   "outputs": [
    {
     "name": "stdout",
     "output_type": "stream",
     "text": [
      "2024-01-15 08:59:10,198 [INFO] WRITING LOG OUTPUT TO /Users/mem3579/.cellpose/run.log\n",
      "2024-01-15 08:59:10,199 [INFO] \n",
      "cellpose version: \t2.2.3 \n",
      "platform:       \tdarwin \n",
      "python version: \t3.9.6 \n",
      "torch version:  \t2.1.1\n"
     ]
    }
   ],
   "source": [
    "import cv2\n",
    "import glob\n",
    "import numpy as np\n",
    "import pandas as pd\n",
    "import time, os, sys\n",
    "from urllib.parse import urlparse\n",
    "import skimage.io\n",
    "import skimage\n",
    "import cellpose\n",
    "import imagecodecs\n",
    "import matplotlib as mpl\n",
    "%matplotlib inline\n",
    "mpl.rcParams['figure.dpi'] = 300\n",
    "from urllib.parse import urlparse\n",
    "from cellpose import models, core\n",
    "from cellpose.io import logger_setup\n",
    "from PIL import Image\n",
    "from os import listdir\n",
    "from os.path import isfile, join\n",
    "from skimage import measure\n",
    "import matplotlib.pyplot as plt\n",
    "logger_setup();\n",
    "import skimage.io as io\n",
    "import math\n",
    "import seaborn as sns\n",
    "import re\n",
    "import scipy\n",
    "from scipy.special import ellipe"
   ]
  },
  {
   "cell_type": "code",
   "execution_count": 157,
   "metadata": {},
   "outputs": [
    {
     "name": "stderr",
     "output_type": "stream",
     "text": [
      "/var/folders/lj/t95zdh7s6q1728bs885tygr0f794qx/T/ipykernel_29504/1025457853.py:19: FutureWarning: The behavior of DataFrame concatenation with empty or all-NA entries is deprecated. In a future version, this will no longer exclude empty or all-NA columns when determining the result dtypes. To retain the old behavior, exclude the relevant entries before the concat operation.\n",
      "  df_rmssub = pd.concat([df_rmssub, new_row], ignore_index=True)\n",
      "/var/folders/lj/t95zdh7s6q1728bs885tygr0f794qx/T/ipykernel_29504/1025457853.py:19: FutureWarning: The behavior of DataFrame concatenation with empty or all-NA entries is deprecated. In a future version, this will no longer exclude empty or all-NA columns when determining the result dtypes. To retain the old behavior, exclude the relevant entries before the concat operation.\n",
      "  df_rmssub = pd.concat([df_rmssub, new_row], ignore_index=True)\n",
      "/var/folders/lj/t95zdh7s6q1728bs885tygr0f794qx/T/ipykernel_29504/1025457853.py:19: FutureWarning: The behavior of DataFrame concatenation with empty or all-NA entries is deprecated. In a future version, this will no longer exclude empty or all-NA columns when determining the result dtypes. To retain the old behavior, exclude the relevant entries before the concat operation.\n",
      "  df_rmssub = pd.concat([df_rmssub, new_row], ignore_index=True)\n",
      "/var/folders/lj/t95zdh7s6q1728bs885tygr0f794qx/T/ipykernel_29504/1025457853.py:19: FutureWarning: The behavior of DataFrame concatenation with empty or all-NA entries is deprecated. In a future version, this will no longer exclude empty or all-NA columns when determining the result dtypes. To retain the old behavior, exclude the relevant entries before the concat operation.\n",
      "  df_rmssub = pd.concat([df_rmssub, new_row], ignore_index=True)\n",
      "/var/folders/lj/t95zdh7s6q1728bs885tygr0f794qx/T/ipykernel_29504/1025457853.py:19: FutureWarning: The behavior of DataFrame concatenation with empty or all-NA entries is deprecated. In a future version, this will no longer exclude empty or all-NA columns when determining the result dtypes. To retain the old behavior, exclude the relevant entries before the concat operation.\n",
      "  df_rmssub = pd.concat([df_rmssub, new_row], ignore_index=True)\n",
      "/var/folders/lj/t95zdh7s6q1728bs885tygr0f794qx/T/ipykernel_29504/1025457853.py:19: FutureWarning: The behavior of DataFrame concatenation with empty or all-NA entries is deprecated. In a future version, this will no longer exclude empty or all-NA columns when determining the result dtypes. To retain the old behavior, exclude the relevant entries before the concat operation.\n",
      "  df_rmssub = pd.concat([df_rmssub, new_row], ignore_index=True)\n",
      "/var/folders/lj/t95zdh7s6q1728bs885tygr0f794qx/T/ipykernel_29504/1025457853.py:19: FutureWarning: The behavior of DataFrame concatenation with empty or all-NA entries is deprecated. In a future version, this will no longer exclude empty or all-NA columns when determining the result dtypes. To retain the old behavior, exclude the relevant entries before the concat operation.\n",
      "  df_rmssub = pd.concat([df_rmssub, new_row], ignore_index=True)\n",
      "/var/folders/lj/t95zdh7s6q1728bs885tygr0f794qx/T/ipykernel_29504/1025457853.py:19: FutureWarning: The behavior of DataFrame concatenation with empty or all-NA entries is deprecated. In a future version, this will no longer exclude empty or all-NA columns when determining the result dtypes. To retain the old behavior, exclude the relevant entries before the concat operation.\n",
      "  df_rmssub = pd.concat([df_rmssub, new_row], ignore_index=True)\n",
      "/var/folders/lj/t95zdh7s6q1728bs885tygr0f794qx/T/ipykernel_29504/1025457853.py:19: FutureWarning: The behavior of DataFrame concatenation with empty or all-NA entries is deprecated. In a future version, this will no longer exclude empty or all-NA columns when determining the result dtypes. To retain the old behavior, exclude the relevant entries before the concat operation.\n",
      "  df_rmssub = pd.concat([df_rmssub, new_row], ignore_index=True)\n",
      "/var/folders/lj/t95zdh7s6q1728bs885tygr0f794qx/T/ipykernel_29504/1025457853.py:19: FutureWarning: The behavior of DataFrame concatenation with empty or all-NA entries is deprecated. In a future version, this will no longer exclude empty or all-NA columns when determining the result dtypes. To retain the old behavior, exclude the relevant entries before the concat operation.\n",
      "  df_rmssub = pd.concat([df_rmssub, new_row], ignore_index=True)\n",
      "/var/folders/lj/t95zdh7s6q1728bs885tygr0f794qx/T/ipykernel_29504/1025457853.py:19: FutureWarning: The behavior of DataFrame concatenation with empty or all-NA entries is deprecated. In a future version, this will no longer exclude empty or all-NA columns when determining the result dtypes. To retain the old behavior, exclude the relevant entries before the concat operation.\n",
      "  df_rmssub = pd.concat([df_rmssub, new_row], ignore_index=True)\n",
      "/var/folders/lj/t95zdh7s6q1728bs885tygr0f794qx/T/ipykernel_29504/1025457853.py:19: FutureWarning: The behavior of DataFrame concatenation with empty or all-NA entries is deprecated. In a future version, this will no longer exclude empty or all-NA columns when determining the result dtypes. To retain the old behavior, exclude the relevant entries before the concat operation.\n",
      "  df_rmssub = pd.concat([df_rmssub, new_row], ignore_index=True)\n",
      "/var/folders/lj/t95zdh7s6q1728bs885tygr0f794qx/T/ipykernel_29504/1025457853.py:19: FutureWarning: The behavior of DataFrame concatenation with empty or all-NA entries is deprecated. In a future version, this will no longer exclude empty or all-NA columns when determining the result dtypes. To retain the old behavior, exclude the relevant entries before the concat operation.\n",
      "  df_rmssub = pd.concat([df_rmssub, new_row], ignore_index=True)\n",
      "/var/folders/lj/t95zdh7s6q1728bs885tygr0f794qx/T/ipykernel_29504/1025457853.py:19: FutureWarning: The behavior of DataFrame concatenation with empty or all-NA entries is deprecated. In a future version, this will no longer exclude empty or all-NA columns when determining the result dtypes. To retain the old behavior, exclude the relevant entries before the concat operation.\n",
      "  df_rmssub = pd.concat([df_rmssub, new_row], ignore_index=True)\n",
      "/var/folders/lj/t95zdh7s6q1728bs885tygr0f794qx/T/ipykernel_29504/1025457853.py:19: FutureWarning: The behavior of DataFrame concatenation with empty or all-NA entries is deprecated. In a future version, this will no longer exclude empty or all-NA columns when determining the result dtypes. To retain the old behavior, exclude the relevant entries before the concat operation.\n",
      "  df_rmssub = pd.concat([df_rmssub, new_row], ignore_index=True)\n",
      "/var/folders/lj/t95zdh7s6q1728bs885tygr0f794qx/T/ipykernel_29504/1025457853.py:19: FutureWarning: The behavior of DataFrame concatenation with empty or all-NA entries is deprecated. In a future version, this will no longer exclude empty or all-NA columns when determining the result dtypes. To retain the old behavior, exclude the relevant entries before the concat operation.\n",
      "  df_rmssub = pd.concat([df_rmssub, new_row], ignore_index=True)\n",
      "/var/folders/lj/t95zdh7s6q1728bs885tygr0f794qx/T/ipykernel_29504/1025457853.py:19: FutureWarning: The behavior of DataFrame concatenation with empty or all-NA entries is deprecated. In a future version, this will no longer exclude empty or all-NA columns when determining the result dtypes. To retain the old behavior, exclude the relevant entries before the concat operation.\n",
      "  df_rmssub = pd.concat([df_rmssub, new_row], ignore_index=True)\n",
      "/var/folders/lj/t95zdh7s6q1728bs885tygr0f794qx/T/ipykernel_29504/1025457853.py:19: FutureWarning: The behavior of DataFrame concatenation with empty or all-NA entries is deprecated. In a future version, this will no longer exclude empty or all-NA columns when determining the result dtypes. To retain the old behavior, exclude the relevant entries before the concat operation.\n",
      "  df_rmssub = pd.concat([df_rmssub, new_row], ignore_index=True)\n",
      "/var/folders/lj/t95zdh7s6q1728bs885tygr0f794qx/T/ipykernel_29504/1025457853.py:19: FutureWarning: The behavior of DataFrame concatenation with empty or all-NA entries is deprecated. In a future version, this will no longer exclude empty or all-NA columns when determining the result dtypes. To retain the old behavior, exclude the relevant entries before the concat operation.\n",
      "  df_rmssub = pd.concat([df_rmssub, new_row], ignore_index=True)\n",
      "/var/folders/lj/t95zdh7s6q1728bs885tygr0f794qx/T/ipykernel_29504/1025457853.py:19: FutureWarning: The behavior of DataFrame concatenation with empty or all-NA entries is deprecated. In a future version, this will no longer exclude empty or all-NA columns when determining the result dtypes. To retain the old behavior, exclude the relevant entries before the concat operation.\n",
      "  df_rmssub = pd.concat([df_rmssub, new_row], ignore_index=True)\n",
      "/var/folders/lj/t95zdh7s6q1728bs885tygr0f794qx/T/ipykernel_29504/1025457853.py:19: FutureWarning: The behavior of DataFrame concatenation with empty or all-NA entries is deprecated. In a future version, this will no longer exclude empty or all-NA columns when determining the result dtypes. To retain the old behavior, exclude the relevant entries before the concat operation.\n",
      "  df_rmssub = pd.concat([df_rmssub, new_row], ignore_index=True)\n",
      "/var/folders/lj/t95zdh7s6q1728bs885tygr0f794qx/T/ipykernel_29504/1025457853.py:19: FutureWarning: The behavior of DataFrame concatenation with empty or all-NA entries is deprecated. In a future version, this will no longer exclude empty or all-NA columns when determining the result dtypes. To retain the old behavior, exclude the relevant entries before the concat operation.\n",
      "  df_rmssub = pd.concat([df_rmssub, new_row], ignore_index=True)\n",
      "/var/folders/lj/t95zdh7s6q1728bs885tygr0f794qx/T/ipykernel_29504/1025457853.py:19: FutureWarning: The behavior of DataFrame concatenation with empty or all-NA entries is deprecated. In a future version, this will no longer exclude empty or all-NA columns when determining the result dtypes. To retain the old behavior, exclude the relevant entries before the concat operation.\n",
      "  df_rmssub = pd.concat([df_rmssub, new_row], ignore_index=True)\n",
      "/var/folders/lj/t95zdh7s6q1728bs885tygr0f794qx/T/ipykernel_29504/1025457853.py:19: FutureWarning: The behavior of DataFrame concatenation with empty or all-NA entries is deprecated. In a future version, this will no longer exclude empty or all-NA columns when determining the result dtypes. To retain the old behavior, exclude the relevant entries before the concat operation.\n",
      "  df_rmssub = pd.concat([df_rmssub, new_row], ignore_index=True)\n",
      "/var/folders/lj/t95zdh7s6q1728bs885tygr0f794qx/T/ipykernel_29504/1025457853.py:19: FutureWarning: The behavior of DataFrame concatenation with empty or all-NA entries is deprecated. In a future version, this will no longer exclude empty or all-NA columns when determining the result dtypes. To retain the old behavior, exclude the relevant entries before the concat operation.\n",
      "  df_rmssub = pd.concat([df_rmssub, new_row], ignore_index=True)\n"
     ]
    }
   ],
   "source": [
    "### madeline testing stuff\n",
    "\n",
    "dataPath = \"/Volumes/fsmresfiles/Basic_Sciences/CDB/CDB_Collaborations/Arispe_Goyal/MadelineMelzer/DATA/nucleiDysmorphia/data/age_final/7wk/segmented/\"\n",
    "savePath = \"/Volumes/fsmresfiles/Basic_Sciences/CDB/CDB_Collaborations/Arispe_Goyal/MadelineMelzer/DATA/nucleiDysmorphia/data/age_final/results/\"\n",
    "\n",
    "files = glob.glob(f\"{dataPath}/*.tif\")\n",
    "dfResult, df_distance = main(files)"
   ]
  },
  {
   "cell_type": "code",
   "execution_count": 158,
   "metadata": {
    "ExecuteTime": {
     "end_time": "2023-11-07T23:56:13.561210Z",
     "start_time": "2023-11-07T23:56:13.551911Z"
    },
    "collapsed": false
   },
   "outputs": [],
   "source": [
    "# pre-processing\n",
    "\n",
    "def pre_process(file):\n",
    "    masks = Image.open(file)\n",
    "    masksArray = np.array(masks)\n",
    "\n",
    "    if np.all(masksArray == 0):\n",
    "        print(f\"Skipping {file} because it has no mask signal\")\n",
    "        return None, None, None\n",
    "\n",
    "    # Get the unique labels in the masksArray\n",
    "    labels = np.unique(masksArray)\n",
    "    labels = labels[labels != 0] # 0 is background\n",
    "\n",
    "    # Initialize outlines as zeros array of same shape as masksArray\n",
    "    outlines = np.zeros_like(masksArray)\n",
    "\n",
    "    for label in labels:\n",
    "        # Get binary mask for the current label\n",
    "        binary_mask = (masksArray == label).astype(np.uint8)\n",
    "        # Get contours for the binary mask\n",
    "        contours = measure.find_contours(binary_mask, 0.5)\n",
    "        # Draw contours on the outlines array\n",
    "        for contour in contours:\n",
    "            contour = np.around(contour).astype(int)\n",
    "            outlines[contour[:, 0], contour[:, 1]] = 1\n",
    "\n",
    "    contours = measure.find_contours(masksArray, 0.5)\n",
    "    #print(contours)\n",
    "    outlines = outlines.astype(np.uint8)\n",
    "\n",
    "    return masksArray, outlines, contours"
   ]
  },
  {
   "cell_type": "code",
   "execution_count": 159,
   "metadata": {},
   "outputs": [],
   "source": [
    "# rotate image\n",
    "\n",
    "def rotate_image(image, orientation):\n",
    "    angle = orientation * (180 / math.pi) + 90 # convert to degrees and add 90 to rotate to vertical\n",
    "    rotated = scipy.ndimage.rotate(image, angle, reshape=False)\n",
    "    return rotated"
   ]
  },
  {
   "cell_type": "code",
   "execution_count": 160,
   "metadata": {},
   "outputs": [],
   "source": [
    "def plot_image(image_array, title=\"Image\"):\n",
    "    plt.imshow(image_array, cmap='gray')  # 'cmap' is the color map, 'gray' is typically used for grayscale images\n",
    "    plt.title(title)\n",
    "    plt.axis('off')  # Turn off axis numbers and labels\n",
    "    plt.show()"
   ]
  },
  {
   "cell_type": "code",
   "execution_count": 161,
   "metadata": {
    "ExecuteTime": {
     "end_time": "2023-11-07T23:56:27.389674Z",
     "start_time": "2023-11-07T23:56:27.381382Z"
    },
    "collapsed": false
   },
   "outputs": [],
   "source": [
    "def calculate_distances(image, df_props_label):\n",
    "\n",
    "    centroid_x = df_props_label['centroid-1'].iloc[0]\n",
    "    centroid_y = df_props_label['centroid-0'].iloc[0]\n",
    "    semi_major = df_props_label['major_axis_length'].iloc[0]/2\n",
    "    semi_minor = df_props_label['minor_axis_length'].iloc[0]/2\n",
    "\n",
    "    # Find the coordinates of the outlines in the image\n",
    "    outlines = measure.find_contours(image, 0.5)\n",
    "    if outlines:\n",
    "        outline = outlines[0]\n",
    "        outline = np.round(outline).astype(int)\n",
    "        coord = (outline[:, 0], outline[:, 1])\n",
    "    else:\n",
    "        return pd.DataFrame()\n",
    "\n",
    "    distance_data = []\n",
    "\n",
    "    for i in range(len(coord[0])):\n",
    "        outline_x = coord[1][i]\n",
    "        outline_y = coord[0][i]\n",
    "\n",
    "        r = math.dist((outline_y, outline_x), (centroid_y, centroid_x))\n",
    "        theta = math.atan2((outline_y - centroid_y), (outline_x - centroid_x))\n",
    "\n",
    "        r_norm = (semi_major*semi_minor)/(math.sqrt(((semi_major**2) * (math.sin(theta))**2) + ((semi_minor**2) * (math.cos(theta))**2))) #if the shape was perfectly elliptical, what would the radius at that theta be?\n",
    "        r_rms = math.sqrt(abs((r**2)-(r_norm**2)))\n",
    "\n",
    "        distance_data.append([\n",
    "            df_props_label['label'], centroid_x, centroid_y, outline_x, outline_y, theta,\n",
    "            r, r_norm, r_rms, df_props_label['major_axis_length'], df_props_label['minor_axis_length']\n",
    "        ])\n",
    "\n",
    "    df_distance = pd.DataFrame(distance_data, columns=[\n",
    "        'label', 'centroid_x', 'centroid_y', 'outline_x', 'outline_y', 'theta',\n",
    "        'r', 'r_norm', 'r_rms', 'major_axis_length', 'minor_axis_length'\n",
    "    ])\n",
    "\n",
    "    return df_distance"
   ]
  },
  {
   "cell_type": "code",
   "execution_count": 162,
   "metadata": {
    "ExecuteTime": {
     "end_time": "2023-11-07T23:56:30.686121Z",
     "start_time": "2023-11-07T23:56:30.668886Z"
    },
    "collapsed": false
   },
   "outputs": [],
   "source": [
    "# root mean square average calculation\n",
    "\n",
    "def calculate_rms_avgs(df_distance, label):\n",
    "\n",
    "    r_avgs = []\n",
    "    rms_avgs = []\n",
    "    r_diffs = []\n",
    "\n",
    "    r_avg = df_distance['r'].mean()\n",
    "    r_avgs.append(r_avg)\n",
    "\n",
    "    rms_avg = df_distance['r_rms'].mean()\n",
    "    rms_avgs.append(rms_avg)\n",
    "\n",
    "    for i, row in df_distance.iterrows():\n",
    "        r_diff = row['r'] - r_avg\n",
    "        r_diffs.append(r_diff)\n",
    "\n",
    "    return r_avgs, rms_avgs, r_diffs"
   ]
  },
  {
   "cell_type": "code",
   "execution_count": 163,
   "metadata": {
    "ExecuteTime": {
     "end_time": "2023-11-07T23:56:34.056959Z",
     "start_time": "2023-11-07T23:56:34.046540Z"
    },
    "collapsed": false
   },
   "outputs": [],
   "source": [
    "# x-intercepts calculation (nuclear irregularity metric 1)\n",
    "\n",
    "def calculate_x_intercepts(df_distance, label):\n",
    "    \n",
    "    df_bin_avg = pd.DataFrame()\n",
    "    df_distance['theta_bin'] = pd.cut(df_distance['theta'], np.arange(-np.pi, np.pi, 0.1), right=True)\n",
    "    grouped = df_distance.groupby('theta_bin', observed = False)\n",
    "\n",
    "    for theta_bin, group in grouped:\n",
    "        r_diff_bin = group['r_diff'].mean()\n",
    "        new_data = {'label': label, 'bin': theta_bin, 'r_diff_bin': r_diff_bin}\n",
    "        df_bin_avg = pd.concat([df_bin_avg, pd.DataFrame([new_data])], ignore_index=True)\n",
    "\n",
    "    df_bin_avg['sign_change'] = np.sign(df_bin_avg['r_diff_bin']).diff().ne(0).astype(int)\n",
    "    df_intercept = df_bin_avg[df_bin_avg['sign_change'] != 0]\n",
    "\n",
    "    return df_bin_avg, df_intercept"
   ]
  },
  {
   "cell_type": "code",
   "execution_count": 164,
   "metadata": {
    "ExecuteTime": {
     "end_time": "2023-11-07T23:56:36.918009Z",
     "start_time": "2023-11-07T23:56:36.910830Z"
    },
    "collapsed": false
   },
   "outputs": [],
   "source": [
    "# subsampling for root mean squared difference (nuclear irregularity metric 2)\n",
    "\n",
    "def calculate_rms_diff(df_distance, label):\n",
    "\n",
    "    subsample_size = 50\n",
    "    df_rmssub = pd.DataFrame(columns=['label', 'rms'])\n",
    "    df_label = df_distance.sort_values('theta')\n",
    "    num_points = len(df_label)\n",
    "\n",
    "    if num_points > subsample_size:\n",
    "        theta_points = np.arange(num_points)[::int(num_points/subsample_size)]\n",
    "        rms_values = df_label.iloc[theta_points]['r_rms'].values\n",
    "        rms_sub_avg = np.average(rms_values)\n",
    "    else:\n",
    "        rms_sub_avg = np.nan\n",
    "\n",
    "    new_row = pd.DataFrame({'label': [label], 'rms': [rms_sub_avg]})\n",
    "    if not new_row.isna().all(axis=1).any():  # Check if the row is not all-NA, this is to control for future pandas updates \n",
    "        df_rmssub = pd.concat([df_rmssub, new_row], ignore_index=True)\n",
    "\n",
    "    return df_rmssub"
   ]
  },
  {
   "cell_type": "code",
   "execution_count": 165,
   "metadata": {
    "ExecuteTime": {
     "end_time": "2023-11-07T23:56:40.130425Z",
     "start_time": "2023-11-07T23:56:40.125155Z"
    },
    "collapsed": false
   },
   "outputs": [],
   "source": [
    "# concavity count calculation (nuclear irregularity metric 3)\n",
    "\n",
    "def calculate_concavity_ct(df_distance, label):\n",
    "    concavity_ct = 0\n",
    "    concavity_thetas = [] #for plotting\n",
    "    theta_vals = np.unique(df_distance['theta'])\n",
    "\n",
    "    for theta in theta_vals:\n",
    "        r_vals = df_distance.loc[\n",
    "            (df_distance['theta'] >= theta-0.002) &\n",
    "            (df_distance['theta'] <= theta+0.002), 'r'].unique()\n",
    "\n",
    "        if len(r_vals) > 1:\n",
    "            concavity_ct += 1\n",
    "            concavity_thetas.append(theta) #for plotting\n",
    "\n",
    "    return [concavity_ct], concavity_thetas"
   ]
  },
  {
   "cell_type": "code",
   "execution_count": 166,
   "metadata": {},
   "outputs": [],
   "source": [
    "### post-processing functions for getting image-level information about the nuclei\n",
    "\n",
    "# Extract age\n",
    "def extract_age(filename):\n",
    "    if re.search(r'52week|52wk|1year|1yo', filename):\n",
    "        return 52\n",
    "    elif re.search(r'24week|6mo', filename):\n",
    "        return 24\n",
    "    elif re.search(r'12week|12wk', filename):\n",
    "        return 12\n",
    "    elif re.search(r'7wk', filename):\n",
    "        return 7\n",
    "    else:\n",
    "        return None\n",
    "\n",
    "# Extract sex\n",
    "def extract_sex(filename):\n",
    "    match = re.search(r'(Male|Female)', filename)\n",
    "    return match.group(1) if match else None\n",
    "\n",
    "# Extract animal\n",
    "def extract_animal(filename):\n",
    "    match = re.search(r'(Male|Female)(\\d+)', filename)\n",
    "    return match.group(2) if match else None\n",
    "\n",
    "# Extract location\n",
    "def extract_location(filename):\n",
    "    match = re.search(r'(Arch|Desc)', filename)\n",
    "    return match.group(1) if match else None\n",
    "\n",
    "# Extract image number\n",
    "def extract_image_number(filename):\n",
    "    match = re.search(r'60x_(\\d)', filename)\n",
    "    return match.group(1) if match else None"
   ]
  },
  {
   "cell_type": "code",
   "execution_count": 156,
   "metadata": {
    "ExecuteTime": {
     "end_time": "2023-11-07T23:57:09.512103Z",
     "start_time": "2023-11-07T23:57:09.505762Z"
    },
    "collapsed": false
   },
   "outputs": [],
   "source": [
    "def main(files):\n",
    "    dfResult = pd.DataFrame()\n",
    "\n",
    "    for file in files:\n",
    "\n",
    "        labeled_image, outlines, contours = pre_process(file)\n",
    "        if labeled_image is None:\n",
    "            continue\n",
    "        \n",
    "        props = measure.regionprops_table(labeled_image, properties=['label',\n",
    "                                                                    'area',\n",
    "                                                                    'perimeter',\n",
    "                                                                    'major_axis_length',\n",
    "                                                                    'minor_axis_length',\n",
    "                                                                    'eccentricity',\n",
    "                                                                    'solidity',\n",
    "                                                                    'moments_hu',\n",
    "                                                                    'equivalent_diameter_area',\n",
    "                                                                    'area_bbox',\n",
    "                                                                    'area_convex',\n",
    "                                                                    'extent',\n",
    "                                                                    'feret_diameter_max',\n",
    "                                                                    'perimeter_crofton',\n",
    "                                                                    'orientation'])\n",
    "\n",
    "        df_props = pd.DataFrame(props)\n",
    "        df_props.insert(0, 'file', file)\n",
    "\n",
    "        df_results = []\n",
    "\n",
    "        for label in np.unique(labeled_image):\n",
    "            if label == 0:\n",
    "                continue\n",
    "\n",
    "            binary_mask_for_label = (labeled_image == label).astype(np.uint8)\n",
    "            df_props_label = df_props[df_props['label'] == label].copy()\n",
    "            rotated_image = rotate_image(binary_mask_for_label, -df_props_label['orientation'].iloc[0])\n",
    "            df_props_label['centroid-0'] = skimage.measure.centroid(rotated_image)[0]\n",
    "            df_props_label['centroid-1'] = skimage.measure.centroid(rotated_image)[1]\n",
    "            # To correct for 0.5 pixel offset between the center of pixel and pixel corners\n",
    "            # mentioned in the regionprops documentation: https://scikit-image.org/docs/dev/api/skimage.measure.html#skimage.measure\n",
    "            df_props_label['centroid-0'] += 0.5\n",
    "            df_props_label['centroid-1'] += 0.5\n",
    "\n",
    "            df_distance = calculate_distances(rotated_image, df_props_label)\n",
    "            r_avgs, rms_avgs, r_diffs = calculate_rms_avgs(df_distance, label)\n",
    "            df_distance['r_diff'] = r_diffs\n",
    "            df_rmssub = calculate_rms_diff(df_distance, label)\n",
    "            \n",
    "            df_bin_avg, df_intercept = calculate_x_intercepts(df_distance, label)\n",
    "            concav, concavity_thetas = calculate_concavity_ct(df_distance, label) #concavity_thetas for plotting only\n",
    "            \n",
    "            e = df_props_label['eccentricity']\n",
    "            df_props_label['perim_equivalent'] = 4 * (df_props_label['major_axis_length'] /2) * scipy.special.ellipe(e*e)\n",
    "            df_props_label['dPerimeter'] = df_props_label['perimeter'] - df_props_label['perim_equivalent']\n",
    "            df_props_label['area_equivalent'] = math.pi * (df_props_label['major_axis_length'] /2) * (df_props_label['minor_axis_length'] /2)\n",
    "            df_props_label['dArea'] = df_props_label['area'] - df_props_label['area_equivalent']\n",
    "            df_props_label['dArea_convex'] = df_props_label['area'] - df_props_label['area_convex']\n",
    "\n",
    "            df_props_label['r_avg'] = r_avgs\n",
    "            df_props_label['rms_avg'] = rms_avgs\n",
    "            df_props_label['x_intercepts'] = df_intercept.groupby('label').size().tolist()\n",
    "            df_props_label['x_intercepts'] -= 1 #subtract 1 to account for there always being an intercept at theta = -pi\n",
    "            df_props_label['rms_subsampled'] = df_rmssub['rms'].values.tolist()\n",
    "            df_props_label['concavity_ct'] = list(concav)\n",
    "            df_props_label['concavity_ct_log'] = np.log10(df_props_label['concavity_ct'])\n",
    "\n",
    "            df_props_label['circularity'] = 4 * np.pi * df_props_label.loc[:, 'area'] / (df_props_label.loc[:, 'perimeter'] ** 2)\n",
    "            df_props_label['sphericity'] = df_distance['r'].max() - df_distance['r'].min()\n",
    "            df_props_label['convexity'] = df_props_label['perimeter'] / df_props_label['area_convex']\n",
    "            df_props_label['aspect_ratio'] = df_props_label['major_axis_length'] / df_props_label['minor_axis_length']\n",
    "            df_props_label['flattening'] = (df_props_label['major_axis_length'] / df_props_label['minor_axis_length'])/df_props_label['major_axis_length']\n",
    "\n",
    "            df_results.append(df_props_label)\n",
    "\n",
    "        dfResult = pd.concat([dfResult, *df_results])\n",
    "\n",
    "    #post-processing for age timecourse nuclei\n",
    "    dfResult['age'] = dfResult['file'].apply(extract_age)\n",
    "    dfResult['sex'] = dfResult['file'].apply(extract_sex)\n",
    "    dfResult['animal'] = dfResult['file'].apply(extract_animal)\n",
    "    dfResult['location'] = dfResult['file'].apply(extract_location)\n",
    "    dfResult['imageNumber'] = dfResult['file'].apply(extract_image_number)\n",
    "\n",
    "    return dfResult, df_distance"
   ]
  },
  {
   "cell_type": "code",
   "execution_count": 22,
   "metadata": {
    "ExecuteTime": {
     "end_time": "2023-11-08T00:12:19.866952Z",
     "start_time": "2023-11-08T00:12:19.701733Z"
    },
    "collapsed": false
   },
   "outputs": [],
   "source": [
    "## adding csv files together for ages\n",
    "\n",
    "fileOne = pd.read_csv(os.path.join(savePath, \"20231107_allAges.csv\"))\n",
    "fileTwo = pd.read_csv(os.path.join(savePath, \"20231221_newAges.csv\"))\n",
    "\n",
    "combined_data = pd.concat([fileOne, fileTwo])\n",
    "\n",
    "combined_data.to_csv(\"/Volumes/fsmresfiles/Basic_Sciences/CDB/CDB_Collaborations/Arispe_Goyal/MadelineMelzer/DATA/nucleiDysmorphia/data/age/output_metrics/20231221_allAges.csv\")"
   ]
  },
  {
   "cell_type": "code",
   "execution_count": null,
   "metadata": {
    "ExecuteTime": {
     "end_time": "2023-11-08T00:13:22.756265Z",
     "start_time": "2023-11-08T00:13:21.999026Z"
    },
    "collapsed": false
   },
   "outputs": [],
   "source": [
    "## Checking up on the Area (output bounds will be used as cutoffs for outliers in metricPlots.R)\n",
    "\n",
    "Q1 = dfResult['area'].quantile(0.25)\n",
    "Q3 = dfResult['area'].quantile(0.75)\n",
    "IQR = Q3 - Q1\n",
    "\n",
    "# Calculate the outlier boundaries\n",
    "lower_bound = Q1 - 1.5 * IQR\n",
    "upper_bound = Q3 + 1.5 * IQR\n",
    "\n",
    "# Plotting histogram for the 'area' column in dfResult\n",
    "plt.figure(figsize=(10, 6))\n",
    "sns.histplot(dfResult['area'], kde=True, bins=30)\n",
    "plt.axvline(Q1, color='r', linestyle='--', label='Q1 (25th quantile)')\n",
    "plt.axvline(dfResult['area'].median(), color='g', linestyle='-', label='Median (50th quantile)')\n",
    "plt.axvline(Q3, color='b', linestyle='--', label='Q3 (75th quantile)')\n",
    "plt.axvline(lower_bound, color='red', linestyle='dashed', linewidth=2, label=f\"Lower Bound: {{lower_bound:.2f}}\")\n",
    "plt.axvline(upper_bound, color='green', linestyle='dashed', linewidth=2, label=f\"Upper Bound: {{upper_bound:.2f}}\")\n",
    "plt.legend()\n",
    "plt.title('Histogram of Area with IQR')\n",
    "plt.xlabel('Area')\n",
    "plt.ylabel('Frequency')\n",
    "plt.grid(True)\n",
    "plt.show()\n",
    "\n",
    "print(\"lower_bound = \", lower_bound)\n",
    "print(\"upper_bound = \", upper_bound)"
   ]
  }
 ],
 "metadata": {
  "kernelspec": {
   "display_name": "Python 3",
   "language": "python",
   "name": "python3"
  },
  "language_info": {
   "codemirror_mode": {
    "name": "ipython",
    "version": 3
   },
   "file_extension": ".py",
   "mimetype": "text/x-python",
   "name": "python",
   "nbconvert_exporter": "python",
   "pygments_lexer": "ipython3",
   "version": "3.9.6"
  }
 },
 "nbformat": 4,
 "nbformat_minor": 0
}
