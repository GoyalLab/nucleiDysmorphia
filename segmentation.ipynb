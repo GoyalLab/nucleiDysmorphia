{
 "cells": [
  {
   "cell_type": "code",
   "execution_count": 1,
   "metadata": {
    "ExecuteTime": {
     "end_time": "2023-11-07T02:32:19.779528Z",
     "start_time": "2023-11-07T02:32:19.391912Z"
    },
    "collapsed": false
   },
   "outputs": [
    {
     "data": {
      "text/plain": [
       "'4.8.1'"
      ]
     },
     "execution_count": 1,
     "metadata": {},
     "output_type": "execute_result"
    }
   ],
   "source": [
    "### segmenting endothelial nuclei for SalvadorEtAl, 2024\n",
    "### Created by Madeline E Melzer on 20230726, Last edit by Madeline E Melzer on 20240111"
   ]
  },
  {
   "cell_type": "code",
   "execution_count": 2,
   "metadata": {
    "ExecuteTime": {
     "end_time": "2023-11-07T02:32:26.567301Z",
     "start_time": "2023-11-07T02:32:21.641828Z"
    },
    "colab": {
     "base_uri": "https://localhost:8080/"
    },
    "executionInfo": {
     "elapsed": 35607,
     "status": "ok",
     "timestamp": 1687210104445,
     "user": {
      "displayName": "Madeline M",
      "userId": "01602320673837016283"
     },
     "user_tz": 300
    },
    "id": "hG3LSmJmLylT",
    "outputId": "5b889a66-af80-4ef0-dd6a-1856d7d57579"
   },
   "outputs": [
    {
     "name": "stdout",
     "output_type": "stream",
     "text": [
      "2023-12-21 06:44:42,015 [INFO] TORCH CUDA version not installed/working.\n",
      ">>> GPU activated? 0\n",
      "2023-12-21 06:44:42,030 [INFO] WRITING LOG OUTPUT TO /Users/mem3579/.cellpose/run.log\n",
      "2023-12-21 06:44:42,030 [INFO] \n",
      "cellpose version: \t2.2.3 \n",
      "platform:       \tdarwin \n",
      "python version: \t3.9.6 \n",
      "torch version:  \t2.1.1\n"
     ]
    }
   ],
   "source": [
    "import cv2\n",
    "cv2.__version__\n",
    "\n",
    "import glob\n",
    "import numpy as np\n",
    "import pandas as pd\n",
    "import time, os, sys\n",
    "from urllib.parse import urlparse\n",
    "import skimage.io\n",
    "import skimage\n",
    "import cellpose\n",
    "from cellpose import models\n",
    "import imagecodecs\n",
    "import matplotlib.pyplot as plt\n",
    "import matplotlib as mpl\n",
    "%matplotlib inline\n",
    "mpl.rcParams['figure.dpi'] = 300\n",
    "\n",
    "from urllib.parse import urlparse\n",
    "from cellpose import models, core\n",
    "from cellpose.io import logger_setup\n",
    "from os import listdir\n",
    "from os.path import isfile, join\n",
    "from skimage import measure\n",
    "import matplotlib.pyplot as plt\n",
    "logger_setup();\n",
    "from tifffile import imread, imwrite\n",
    "import shutil\n",
    "from PIL import Image"
   ]
  },
  {
   "cell_type": "code",
   "execution_count": 3,
   "metadata": {
    "ExecuteTime": {
     "end_time": "2023-11-07T02:32:55.433053Z",
     "start_time": "2023-11-07T02:32:55.385268Z"
    },
    "executionInfo": {
     "elapsed": 363,
     "status": "ok",
     "timestamp": 1687212948564,
     "user": {
      "displayName": "Madeline M",
      "userId": "01602320673837016283"
     },
     "user_tz": 300
    },
    "id": "aWTPMA3Rn5qD"
   },
   "outputs": [],
   "source": [
    "### Specify input and output directories\n",
    "\n",
    "dataPath = \"/Volumes/fsmresfiles/Basic_Sciences/CDB/CDB_Collaborations/Arispe_Goyal/MadelineMelzer/DATA/nucleiDysmorphia/data/age/20231206/unsegmented/\"\n",
    "savePath = \"/Volumes/fsmresfiles/Basic_Sciences/CDB/CDB_Collaborations/Arispe_Goyal/MadelineMelzer/DATA/nucleiDysmorphia/data/age/20231206/segmented/\"\n",
    "segmentation_model = \"/Volumes/fsmresfiles/Basic_Sciences/CDB/CDB_Collaborations/Arispe_Goyal/MadelineMelzer/DATA/nucleiDysmorphia/data/segmentationModels/CP_20230116_weirdNuclei_05\"\n",
    "qcPath = \"/Volumes/fsmresfiles/Basic_Sciences/CDB/CDB_Collaborations/Arispe_Goyal/MadelineMelzer/DATA/nucleiDysmorphia/data/age/20231206/segmented/filteredPeriphery/\"\n",
    "#individualsPath = \"/Volumes/fsmresfiles/Basic_Sciences/CDB/CDB_Collaborations/Arispe_Goyal/MadelineMelzer/DATA/nucleiDysmorphia/data/age/nucleiSegmented/individuals/\"\n",
    "individualsPath = \"/Volumes/fsmresfiles/Basic_Sciences/CDB/CDB_Collaborations/Arispe_Goyal/MadelineMelzer/DATA/nucleiDysmorphia/data/age/nucleiSegmented/individuals/png/\"\n",
    "\n",
    "os.chdir(dataPath)"
   ]
  },
  {
   "cell_type": "code",
   "execution_count": 4,
   "metadata": {
    "ExecuteTime": {
     "end_time": "2023-11-07T02:32:57.703114Z",
     "start_time": "2023-11-07T02:32:57.594497Z"
    },
    "colab": {
     "base_uri": "https://localhost:8080/"
    },
    "executionInfo": {
     "elapsed": 3,
     "status": "ok",
     "timestamp": 1687212950409,
     "user": {
      "displayName": "Madeline M",
      "userId": "01602320673837016283"
     },
     "user_tz": 300
    },
    "id": "62H43ICTC6MO",
    "outputId": "ba864261-abd4-429a-8803-a9d2b23bc160"
   },
   "outputs": [
    {
     "data": {
      "text/plain": [
       "31"
      ]
     },
     "execution_count": 4,
     "metadata": {},
     "output_type": "execute_result"
    }
   ],
   "source": [
    "#reading in images\n",
    "\n",
    "# read in all image file names from the folder\n",
    "files = [f for f in listdir(dataPath) if isfile(join(dataPath, f)) if \".DS_Store\" not in f if \".tif\" in f]\n",
    "files = sorted(files)\n",
    "nimg = len(files)\n",
    "print(nimg)\n",
    "\n",
    "### Reading in the samples\n",
    "imgs = [skimage.io.imread(f) for f in files]\n",
    "plot_number = 1 ##plot num for number of images you want to see\n",
    "if nimg < plot_number:\n",
    "    plot_number = nimg\n",
    "plt.figure(figsize=(1,1))\n",
    "for k,img in enumerate(imgs[:plot_number]):\n",
    "    plt.subplot(110,plot_number,k+1)\n",
    "    plt.imshow(img)"
   ]
  },
  {
   "cell_type": "code",
   "execution_count": 6,
   "metadata": {
    "ExecuteTime": {
     "end_time": "2023-11-07T02:37:30.706706Z",
     "start_time": "2023-11-07T02:33:16.662403Z"
    },
    "collapsed": false
   },
   "outputs": [
    {
     "name": "stdout",
     "output_type": "stream",
     "text": [
      "2023-12-21 06:45:01,031 [INFO] >>>> loading model /Volumes/fsmresfiles/Basic_Sciences/CDB/CDB_Collaborations/Arispe_Goyal/MadelineMelzer/DATA/nucleiDysmorphia/data/segmentationModels/CP_20230116_weirdNuclei_05\n",
      "2023-12-21 06:45:01,032 [INFO] TORCH CUDA version not installed/working.\n",
      "2023-12-21 06:45:01,033 [INFO] >>>> using CPU\n",
      "2023-12-21 06:45:01,034 [INFO] WARNING: MKL version on torch not working/installed - CPU version will be slightly slower.\n",
      "2023-12-21 06:45:01,035 [INFO] see https://pytorch.org/docs/stable/backends.html?highlight=mkl\n"
     ]
    },
    {
     "name": "stdout",
     "output_type": "stream",
     "text": [
      "2023-12-21 06:45:02,237 [INFO] >>>> model diam_mean =  17.000 (ROIs rescaled to this size during training)\n",
      "2023-12-21 06:45:02,237 [INFO] >>>> model diam_labels =  109.242 (mean diameter of training ROIs)\n",
      "2023-12-21 06:45:02,332 [INFO] 0%|          | 0/31 [00:00<?, ?it/s]\n",
      "2023-12-21 06:45:08,786 [INFO] 3%|3         | 1/31 [00:06<03:13,  6.45s/it]\n",
      "2023-12-21 06:45:15,128 [INFO] 6%|6         | 2/31 [00:12<03:05,  6.39s/it]\n",
      "2023-12-21 06:45:21,741 [INFO] 10%|9         | 3/31 [00:19<03:01,  6.49s/it]\n",
      "2023-12-21 06:45:30,358 [INFO] 13%|#2        | 4/31 [00:28<03:17,  7.33s/it]\n",
      "2023-12-21 06:45:36,372 [INFO] 16%|#6        | 5/31 [00:34<02:58,  6.86s/it]\n",
      "2023-12-21 06:45:44,460 [INFO] 19%|#9        | 6/31 [00:42<03:01,  7.27s/it]\n",
      "2023-12-21 06:45:50,229 [INFO] 23%|##2       | 7/31 [00:47<02:42,  6.78s/it]\n",
      "2023-12-21 06:45:56,870 [INFO] 26%|##5       | 8/31 [00:54<02:34,  6.74s/it]\n",
      "2023-12-21 06:46:05,841 [INFO] 29%|##9       | 9/31 [01:03<02:43,  7.44s/it]\n",
      "2023-12-21 06:46:16,136 [INFO] 32%|###2      | 10/31 [01:13<02:54,  8.32s/it]\n",
      "2023-12-21 06:46:25,521 [INFO] 35%|###5      | 11/31 [01:23<02:52,  8.64s/it]\n",
      "2023-12-21 06:46:31,808 [INFO] 39%|###8      | 12/31 [01:29<02:30,  7.93s/it]\n",
      "2023-12-21 06:46:37,966 [INFO] 42%|####1     | 13/31 [01:35<02:13,  7.39s/it]\n",
      "2023-12-21 06:46:43,948 [INFO] 45%|####5     | 14/31 [01:41<01:58,  6.97s/it]\n",
      "2023-12-21 06:46:52,773 [INFO] 48%|####8     | 15/31 [01:50<02:00,  7.53s/it]\n",
      "2023-12-21 06:46:58,034 [INFO] 52%|#####1    | 16/31 [01:55<01:42,  6.84s/it]\n",
      "2023-12-21 06:47:05,078 [INFO] 55%|#####4    | 17/31 [02:02<01:36,  6.90s/it]\n",
      "2023-12-21 06:47:12,823 [INFO] 58%|#####8    | 18/31 [02:10<01:33,  7.16s/it]\n",
      "2023-12-21 06:47:19,999 [INFO] 61%|######1   | 19/31 [02:17<01:25,  7.16s/it]\n",
      "2023-12-21 06:47:26,046 [INFO] 65%|######4   | 20/31 [02:23<01:15,  6.83s/it]\n",
      "2023-12-21 06:47:32,711 [INFO] 68%|######7   | 21/31 [02:30<01:07,  6.78s/it]\n",
      "2023-12-21 06:47:39,340 [INFO] 71%|#######   | 22/31 [02:37<01:00,  6.73s/it]\n",
      "2023-12-21 06:47:47,090 [INFO] 74%|#######4  | 23/31 [02:44<00:56,  7.04s/it]\n",
      "2023-12-21 06:47:54,914 [INFO] 77%|#######7  | 24/31 [02:52<00:50,  7.27s/it]\n",
      "2023-12-21 06:48:01,549 [INFO] 81%|########  | 25/31 [02:59<00:42,  7.08s/it]\n",
      "2023-12-21 06:48:08,566 [INFO] 84%|########3 | 26/31 [03:06<00:35,  7.06s/it]\n",
      "2023-12-21 06:48:16,092 [INFO] 87%|########7 | 27/31 [03:13<00:28,  7.20s/it]\n",
      "2023-12-21 06:48:23,468 [INFO] 90%|######### | 28/31 [03:21<00:21,  7.25s/it]\n",
      "2023-12-21 06:48:28,464 [INFO] 94%|#########3| 29/31 [03:26<00:13,  6.58s/it]\n",
      "2023-12-21 06:48:33,289 [INFO] 97%|#########6| 30/31 [03:30<00:06,  6.05s/it]\n",
      "2023-12-21 06:48:38,496 [INFO] 100%|##########| 31/31 [03:36<00:00,  5.80s/it]\n",
      "2023-12-21 06:48:38,497 [INFO] 100%|##########| 31/31 [03:36<00:00,  6.97s/it]\n"
     ]
    }
   ],
   "source": [
    "# Running cellpose model\n",
    "\n",
    "# DEFINE CELLPOSE MODEL\n",
    "# model_type='cyto', 'cyto2' or model_type='nuclei'\n",
    "\n",
    "model = models.CellposeModel(gpu=True,\n",
    "                             pretrained_model= segmentation_model)\n",
    "\n",
    "# define CHANNELS to run segementation on\n",
    "# grayscale=0, R=1, G=2, B=3\n",
    "# channels = [cytoplasm, nucleus]\n",
    "# if NUCLEUS channel does not exist, set the second channel to 0 -> channels = [0,0]\n",
    "\n",
    "# channels = [0,0] # IF YOU HAVE GRAYSCALE\n",
    "# channels = [2,3] # IF YOU HAVE Green=cytoplasm and Blue=nucleus\n",
    "# channels = [2,1] # IF YOU HAVE Green=cytoplasm and Red=nucleus\n",
    "\n",
    "channels = [0,0]\n",
    "\n",
    "# if diameter is set to None, the size of the cells is estimated on a per image basis\n",
    "# you can set the average cell `diameter` in pixels yourself (recommended)\n",
    "# diameter can be a list or a single number for all images\n",
    "\n",
    "diameterParam = model.diam_labels\n",
    "\n",
    "# flow threshold: Sometimes the neural network identifies cell shapes, which are in reality no cell shape.\n",
    "# default is 0.4\n",
    "# If you have too many masks in the image because the image is too noisy, decrease this parameter slightly.\n",
    "# Increase this parameter if cellpose is not returning as many region of interest as you’d expect. (For example different cell sizes)\n",
    "\n",
    "flowThreshold = 0.4\n",
    "\n",
    "#cellprob_threshold: Each shape gets a probability of being a cell\n",
    "#Decrease this threshold if cellpose is not returning as many ROIs as you’d expect.\n",
    "#Similarly, increase this threshold if cellpose is returning too ROIs particularly from dim areas.\n",
    "\n",
    "cellprobThreshold = 0.0\n",
    "\n",
    "#model = models.CellposeModel(gpu=use_GPU, model_type=modelType)\n",
    "masks, flows, styles = model.eval(imgs, diameter=diameterParam, flow_threshold=flowThreshold, channels=channels, cellprob_threshold=cellprobThreshold)"
   ]
  },
  {
   "cell_type": "code",
   "execution_count": 7,
   "metadata": {
    "ExecuteTime": {
     "end_time": "2023-11-07T02:41:18.996826Z",
     "start_time": "2023-11-07T02:38:02.924107Z"
    },
    "executionInfo": {
     "elapsed": 22196,
     "status": "ok",
     "timestamp": 1687213002415,
     "user": {
      "displayName": "Madeline M",
      "userId": "01602320673837016283"
     },
     "user_tz": 300
    },
    "id": "Vax6qaMVGjMv"
   },
   "outputs": [],
   "source": [
    "## save output to *_seg.npy\n",
    "from cellpose import io\n",
    "os.chdir(savePath)\n",
    "'''io.masks_flows_to_seg(imgs,\n",
    "                      masks,\n",
    "                      flows,\n",
    "                      diameterParam*np.ones(len(masks)),\n",
    "                      files,\n",
    "                      [0, 0])'''\n",
    "\n",
    "io.save_masks(#imgs,\n",
    "              masks,\n",
    "              #flows,\n",
    "              #files,\n",
    "              channels=[0, 0],\n",
    "              #png=True, # save masks as PNGs and save example image\n",
    "              tif=True, # save masks as TIFFs\n",
    "              #save_txt=False, # save txt outlines for ImageJ\n",
    "              #save_flows=False, # save flows as TIFFs\n",
    "              #save_outlines=True, # save outlines as TIFFs\n",
    "              )"
   ]
  },
  {
   "cell_type": "code",
   "execution_count": 8,
   "metadata": {
    "ExecuteTime": {
     "end_time": "2023-11-07T02:37:30.712153Z",
     "start_time": "2023-11-07T02:37:30.710826Z"
    },
    "collapsed": false
   },
   "outputs": [],
   "source": [
    "# function to identify nuclei on the periphery of the image and remove them\n",
    "\n",
    "def remove_peripherals(input_dir, output_dir):\n",
    "    # List all .tif files in the input directory\n",
    "    all_files = [f for f in os.listdir(input_dir) if f.endswith('.tif')]\n",
    "\n",
    "    for filename in all_files:\n",
    "        input_image_path = os.path.join(input_dir, filename)\n",
    "        output_image_path = os.path.join(output_dir, filename)\n",
    "\n",
    "        # Load the image\n",
    "        image = imread(input_image_path)\n",
    "\n",
    "        # Identify the unique labels (or nuclear masks) in the image, excluding the background\n",
    "        labels = np.unique(image)[1:]\n",
    "\n",
    "        # Check the boundaries\n",
    "        boundaries = [\n",
    "            image[0, :],           # Top row\n",
    "            image[:, 0],           # Leftmost column\n",
    "            image[-1, :],          # Bottom row\n",
    "            image[:, -1],          # Rightmost column\n",
    "        ]\n",
    "\n",
    "        # List to store labels that touch the boundary\n",
    "        labels_to_remove = []\n",
    "\n",
    "        for label in labels:\n",
    "            for boundary in boundaries:\n",
    "                if label in boundary:\n",
    "                    labels_to_remove.append(label)\n",
    "                    break\n",
    "\n",
    "        # For each label that touches the boundary, set its value to 0\n",
    "        for label_value in labels_to_remove:\n",
    "            image[image == label_value] = 0\n",
    "\n",
    "        # Save the modified image to the output directory\n",
    "        imwrite(output_image_path, image)\n"
   ]
  },
  {
   "cell_type": "code",
   "execution_count": 9,
   "metadata": {
    "ExecuteTime": {
     "end_time": "2023-11-07T02:42:54.458505Z",
     "start_time": "2023-11-07T02:42:51.448697Z"
    },
    "collapsed": false
   },
   "outputs": [],
   "source": [
    "### getting rid of nuclei that are cut-off by the periphery of the image\n",
    "remove_peripherals(savePath, qcPath)"
   ]
  },
  {
   "cell_type": "code",
   "execution_count": 10,
   "metadata": {
    "ExecuteTime": {
     "end_time": "2023-11-07T02:52:19.566621Z",
     "start_time": "2023-11-07T02:44:15.185559Z"
    },
    "collapsed": false
   },
   "outputs": [],
   "source": [
    "### function to make separate images for each nucleus in an image (for the visualization in the shiny app)\n",
    "\n",
    "def make_individuals(folder_path, save_path):\n",
    "    for filename in os.listdir(folder_path):\n",
    "        if filename.endswith(\".tif\"):\n",
    "            full_path = os.path.join(folder_path, filename)\n",
    "            image = Image.open(full_path)\n",
    "\n",
    "            # Iterate over the segmented cells in the image\n",
    "            for cell_number in set(image.getdata()):\n",
    "                if cell_number != 0:  # Exclude the background pixels labeled as 0\n",
    "                    # Find the bounding box of the cell\n",
    "                    cell_pixels = [(x, y) for x in range(image.width) for y in range(image.height) if image.getpixel((x, y)) == cell_number]\n",
    "                    min_x = min(cell_pixels, key=lambda p: p[0])[0]\n",
    "                    min_y = min(cell_pixels, key=lambda p: p[1])[1]\n",
    "                    max_x = max(cell_pixels, key=lambda p: p[0])[0]\n",
    "                    max_y = max(cell_pixels, key=lambda p: p[1])[1]\n",
    "                    cell_box = (min_x, min_y, max_x, max_y)\n",
    "                    cell_image = image.crop(cell_box)  # Crop the image to the cell bounding box\n",
    "\n",
    "                    # Create a new binary image of the cell size\n",
    "                    cell_binary = Image.new(\"1\", cell_image.size, color=0)\n",
    "\n",
    "                    # Iterate over the pixels in the cropped cell image and update the binary image\n",
    "                    for x in range(cell_image.width):\n",
    "                        for y in range(cell_image.height):\n",
    "                            if cell_image.getpixel((x, y)) == cell_number:\n",
    "                                cell_binary.putpixel((x, y), 1)\n",
    "\n",
    "                    # Save the binary image with the updated filename\n",
    "                    cell_filename = filename.replace(\".tif\", f\"_{cell_number}.png\")\n",
    "                    cell_full_path = os.path.join(save_path, cell_filename)\n",
    "                    cell_binary.save(cell_full_path)"
   ]
  },
  {
   "cell_type": "code",
   "execution_count": null,
   "metadata": {},
   "outputs": [],
   "source": [
    "### making images of individual segmented cells for the shiny app\n",
    "make_individuals(qcPath, individualsPath)"
   ]
  }
 ],
 "metadata": {
  "accelerator": "GPU",
  "colab": {
   "collapsed_sections": [
    "IaBHruT5s_dZ",
    "VjVK3aS3h4o7",
    "LCA5ZD-yf1gy"
   ],
   "gpuClass": "premium",
   "provenance": [
    {
     "file_id": "1FpWSnqMj7as7WZeFKch2dahfrSftdoeR",
     "timestamp": 1677014472470
    },
    {
     "file_id": "1s2HJrf6V7Xxw_GuWQmo6REF8JEwD14x6",
     "timestamp": 1673048891083
    },
    {
     "file_id": "1yNrqDMXowJqVX7hJHsFQR40yTAaxd_2O",
     "timestamp": 1672861396518
    },
    {
     "file_id": "1WDR7jWNFQ19VF-N4pE6A8BDkOG8dkTlN",
     "timestamp": 1664006643820
    },
    {
     "file_id": "1PigS4QfgZaTm_FsQ5o-3uWEQvNA6XTVh",
     "timestamp": 1657497732390
    },
    {
     "file_id": "1udA_b8el2NPBdnMzd352-1R-2Kch2134",
     "timestamp": 1649043080816
    },
    {
     "file_id": "1uMs0v0AAT8khFmJnMNhaVG9g1QvjgYLg",
     "timestamp": 1645840298692
    }
   ]
  },
  "gpuClass": "premium",
  "kernelspec": {
   "display_name": "Python 3 (ipykernel)",
   "language": "python",
   "name": "python3"
  },
  "language_info": {
   "codemirror_mode": {
    "name": "ipython",
    "version": 3
   },
   "file_extension": ".py",
   "mimetype": "text/x-python",
   "name": "python",
   "nbconvert_exporter": "python",
   "pygments_lexer": "ipython3",
   "version": "3.9.6"
  }
 },
 "nbformat": 4,
 "nbformat_minor": 1
}
